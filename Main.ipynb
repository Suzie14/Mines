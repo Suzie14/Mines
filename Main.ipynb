{
 "cells": [
  {
   "cell_type": "markdown",
   "id": "19f30cfc-0ccb-42a5-a147-8561e6f2d885",
   "metadata": {},
   "source": [
    "# **Projet Python 2A**\n",
    "Charlotte de Romémont • Suzie Grondin • Michael Walkowiak\n",
    "\n",
    "*Ce projet est réalisé dans le cadre du cours de Python de Lino Galiana pour l'année 2022-2023.*"
   ]
  },
  {
   "cell_type": "markdown",
   "id": "dd34a9ea-f714-4418-b905-b7a9a04662b2",
   "metadata": {},
   "source": [
    "L'objectif de ce projet est de mettre en avant les risques liés au stress hydrique, c'est à dire le manque d'eau, pour l'exploitation minière. L'extraction minière est indispensable pour l'économie mondiale et devrait fortement augmenter au cours des prochaines décennies, notamment car les technologies de la transition bas-carbone nécessitent une plus grande diversité de métaux que leurs alternatives utilisant des combustibles fossiles (voir par exemple https://www.ecologie.gouv.fr/sites/default/files/rapport_cgdd_01_mobilite_bas_carbone_fevrier2022.pdf pour les véhicules électriques). \n",
    "\n",
    "Peu d'études ont directement porté sur le risque hydrique dans le secteur minier, comme le notent les membres du projet GENERATE de l'IFP Énergies nouvelles (https://www.researchgate.net/publication/350514545_Les_pressions_sur_l'eau_face_ignoree_de_la_transition_energetique), malgré des conséquences déjà perceptibles du manque d'eau dans certaines régions minières d'importance mondiale (https://www.lesechos.fr/finance-marches/marches-financiers/les-mines-de-cuivre-au-chili-premieres-victimes-du-manque-deau-1340672).\n",
    "\n",
    "Nous chercheront donc à évaluer quel pourcentage de la production de certains minéraux critiques se situe dans des zones à risque, tout en gardant à l'esprit que  \n",
    "\n",
    "Réciproquement, il serait intéressant, avec plus de temps, de chercher à estimer l'impact de l'exploitation minière sur la consommation d'eau et donc sur l'augmentation prévisible du stress hydrique. Cette étude pourrait consister à isoler les zones minières.\n"
   ]
  },
  {
   "cell_type": "markdown",
   "id": "61b4ba4b-7cd4-4f3b-88c4-346647d7b83c",
   "metadata": {},
   "source": [
    "# Données utilisées\n",
    "Nous utiliserons plusieurs jeux de données en accès libre sur internet et dont la récupération et l'exploitation est plus ou moins complexe: \n",
    "\n",
    "\n",
    "• Un recensement mondial de zones d’exploitations minières, associé à l'article de Maus, V., Giljum, S., Gutschlhofer, J. et al. A global-scale data set of mining areas. Sci Data 7, 289 (2020). https://doi.org/10.1038/s41597-020-00624-w. De notre point de vue, l'important est de noter que les données mises à disposition par les auteurs consistent essentiellement en des polygones qui correspondent aux zones occupées par des exploitations minières. Les données sont en format geopackage (.gpkg), et le système de coordonées est WGS 84. Nénamoins, ces polygones ne comportent pas d'information sur le type d'exploitation minière, seulement la zone occupée. Le jeu de données comporte une information sur le pays qui contient les polygones miniers, mais nous avons pu constater des erreurs et \n",
    "    \n",
    "• Un webscrapping du site https://www.mindat.org/. Ces données consistent en des points qui indiquent la situation des mines, et des informations fines sur la localité administrative, la province et le pays. Par rapport aux données issues de l'article de Mauss, nous avons donc une information plus fine sur la localisation et la possibilité d'identifier le type de minral extrait. Étant donné la grande diversité des minéraux qui peuvent nous intéresser, nous avons choisi de focaliser cette étape de webscrapping sur les mines de cuivre, mais la structure du site mindat.org nous permet d'être confiants quand à la possibilité de reproduire la méthode pour d'autres minéraux. \n",
    "\n",
    "• Les données de production mondiale et pays par pays pour de nombreux minéraux d'intérêt, sur le site https://www.world-mining-data.info/?World_Mining_Data___Data_Section qui est tenu par le ministère des finances de la république d'Autriche. Ces données sont au format xlsx et réparties dans plusieurs onglets.\n",
    "\n",
    "• Des scénarios de stress hydrique, à partir des travaux du World Resources Institute dans le cadre du projet Aqueduct (https://www.wri.org/aqueduct). Ces données consistent en des polygones couvrant la surface de la terre et en un ensemble d'indicateurs qui permettent de construire de plus de 100 scénarios de stress hydrique prévu, pour les années 2020, 2030, 2040 et selon des hypothèses optimistes, neutres ou négatives. Les données géographiques sont au format Shapefile (SHP) et le système de coordonées est WGS 84.\n"
   ]
  },
  {
   "cell_type": "markdown",
   "id": "78b40dc4-80ad-45dd-8125-7cd2471496c0",
   "metadata": {},
   "source": [
    "## Webscraping"
   ]
  },
  {
   "cell_type": "markdown",
   "id": "701e6d3f-2e51-4540-9154-9c04ef28a58c",
   "metadata": {},
   "source": [
    "Le Webscraping est une technique d'extraction de contenu de site web. \n",
    "Nous avons eu recours à cette technique pour récolter les positions (longitude et latitude) des mines de cuivre sur le site \"https://www.mindat.org/min-1209.html\". Nous l'avons réalisé grâce au package selenium en conternant certains accès. Malheureusement, nous avons été repérés et le site à bloquer cette manière de récolter les informations avant que l'on ai enregistré le dataframe désiré. De ce fait, vous pouvez trouver notre code de Webscrapping dans notre dossier (nommé WebScrapping.ipynb) mais les données avec lesquelles nous travaillerons ont étées récoltées \"à la main\". "
   ]
  },
  {
   "cell_type": "markdown",
   "id": "5d1be1c9-ae5b-4b1a-aebd-f956d217c47b",
   "metadata": {},
   "source": [
    "# Obtention des données et prétraitement\n",
    "## webscraping\n",
    "\n",
    "## correction des pays des polygones miniers\n",
    "\n",
    "## conversion des données de production minière (?)\n"
   ]
  },
  {
   "cell_type": "code",
   "execution_count": null,
   "id": "42994393-15bb-4450-829e-7b8ef89fea46",
   "metadata": {},
   "outputs": [],
   "source": []
  },
  {
   "cell_type": "markdown",
   "id": "c41f03e1-885c-4b2f-8bcc-12a78fbcb4cf",
   "metadata": {},
   "source": [
    "# Visualisation des données géographiques par pays"
   ]
  },
  {
   "cell_type": "code",
   "execution_count": null,
   "id": "03397671-cdf1-4e06-b3a0-130c240bf9ae",
   "metadata": {},
   "outputs": [],
   "source": []
  },
  {
   "cell_type": "code",
   "execution_count": null,
   "id": "7bbeed6b-9af1-4868-81b1-9a25047e7e05",
   "metadata": {},
   "outputs": [],
   "source": []
  },
  {
   "cell_type": "markdown",
   "id": "86c75c07-1b0b-4832-afdc-820d7e30effa",
   "metadata": {},
   "source": [
    "# Évaluation du pourcentage de zones minières situées dans les différentes zones de stress hydrique au niveau mondial et par pays\n",
    "\n",
    "## au niveau mondial"
   ]
  },
  {
   "cell_type": "code",
   "execution_count": null,
   "id": "35ab09c0-007a-4b22-9779-476f22c09e29",
   "metadata": {},
   "outputs": [],
   "source": []
  },
  {
   "cell_type": "markdown",
   "id": "4e15d076-3c17-4afe-9b5a-4a597029e03a",
   "metadata": {},
   "source": [
    "## par pays"
   ]
  },
  {
   "cell_type": "code",
   "execution_count": null,
   "id": "faaec20d-ef2e-438c-9534-f0fd4bd16d97",
   "metadata": {},
   "outputs": [],
   "source": []
  },
  {
   "cell_type": "markdown",
   "id": "b3c69147-2bd2-496c-9b49-2fa306b70ce1",
   "metadata": {},
   "source": [
    "# Tentative d'identification des types d'exploitations minières par pays et minéraux - le cas du Chili et du cuivre"
   ]
  },
  {
   "cell_type": "code",
   "execution_count": null,
   "id": "9e808e7d-7fec-4a30-b32d-5d79b332ef9f",
   "metadata": {},
   "outputs": [],
   "source": []
  },
  {
   "cell_type": "markdown",
   "id": "f266f3f8-36fe-4b83-95de-ca0312acd45c",
   "metadata": {},
   "source": [
    "# Conclusion et travaux complémentaires\n",
    "Réciproquement, il serait intéressant, avec plus de temps, de chercher à estimer l'impact de l'exploitation minière sur la consommation d'eau et donc sur l'augmentation prévisible du stress hydrique. Cette étude pourrait consister à isoler les zones minières, et à comparer les données chiffrées des scénarios de stress hydrique et leurs évolution au cours du temps à des zones proches et similaires mais qui ne contiennent pas d'exploitations minières."
   ]
  },
  {
   "cell_type": "code",
   "execution_count": null,
   "id": "5cf25622-479f-49e4-8f2b-ccbb43fec576",
   "metadata": {},
   "outputs": [],
   "source": []
  }
 ],
 "metadata": {
  "kernelspec": {
   "display_name": "Python 3 (ipykernel)",
   "language": "python",
   "name": "python3"
  },
  "language_info": {
   "codemirror_mode": {
    "name": "ipython",
    "version": 3
   },
   "file_extension": ".py",
   "mimetype": "text/x-python",
   "name": "python",
   "nbconvert_exporter": "python",
   "pygments_lexer": "ipython3",
   "version": "3.10.4"
  }
 },
 "nbformat": 4,
 "nbformat_minor": 5
}
