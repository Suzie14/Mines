{
 "cells": [
  {
   "cell_type": "code",
   "execution_count": 1,
   "id": "bfa614be-97cf-4215-a9b0-2432dc0a47a4",
   "metadata": {
    "tags": []
   },
   "outputs": [],
   "source": [
    "# liste des modules et librairies à installer/importer\n",
    "def import_packages():\n",
    "    import pandas as pd\n",
    "    import numpy as np\n",
    "    !pip install -U scikit-learn\n",
    "    import sklearn\n",
    "    from sklearn.linear_model import LinearRegression\n",
    "    import scipy\n",
    "    import requests\n",
    "    import matplotlib.pyplot as plt\n",
    "\n",
    "    import json\n",
    "    from pandas.io.json import json_normalize\n",
    "\n",
    "    #pour données géo et visualisations sur cartes\n",
    "    !pip install geopandas\n",
    "    import geopandas as gpd\n",
    "    !pip install geoplot \n",
    "    import geoplot\n",
    "    import geopandas.tools\n",
    "    from shapely.geometry import Point, Polygon\n",
    "    #!conda install -c conda-forge geopy --yes\n",
    "    #from geopy.geocoders import Nominatim\n",
    "    import folium\n",
    "\n",
    "    !pip install contextily\n",
    "    import contextily as ctx\n",
    "    import matplotlib.pyplot as plt\n",
    "\n",
    "    import matplotlib.cm as cm\n",
    "    import matplotlib.colors as colors\n",
    "\n",
    "    !pip install openpyxl\n",
    "    import openpyxl\n",
    "\n",
    "    # pour webscrapping\n",
    "    !pip install selenium\n",
    "    import selenium\n",
    "    from bs4 import BeautifulSoup\n",
    "    !pip install lxml\n",
    "    import lxml\n",
    "\n",
    "    import zipfile\n",
    "    import os\n",
    "    import glob\n",
    "    import io\n",
    "\n",
    "    # pour obtenir données de Maus, V., Giljum, S., Gutschlhofer, J. et al. A global-scale data set of mining areas. Sci Data 7, 289 (2020). https://doi.org/10.1038/s41597-020-00624-w\n",
    "    from io import BytesIO\n",
    "    from zipfile import ZipFile\n",
    "    from urllib.request import urlopen"
   ]
  },
  {
   "cell_type": "code",
   "execution_count": 4,
   "id": "96990654-be20-4e5c-99e2-ce0c4bba1274",
   "metadata": {},
   "outputs": [
    {
     "ename": "IndentationError",
     "evalue": "expected an indented block after function definition on line 2 (1140576806.py, line 3)",
     "output_type": "error",
     "traceback": [
      "\u001b[0;36m  Cell \u001b[0;32mIn [4], line 3\u001b[0;36m\u001b[0m\n\u001b[0;31m    url_csv = \"https://www.world-mining-data.info/wmd/downloads/XLS/6.5.%20Share_of_World_Mineral_Production_2020_by_Countries.xlsx\"\u001b[0m\n\u001b[0m    ^\u001b[0m\n\u001b[0;31mIndentationError\u001b[0m\u001b[0;31m:\u001b[0m expected an indented block after function definition on line 2\n"
     ]
    }
   ],
   "source": [
    "    # parts de production minéraux, par pays\n",
    "def import_donnees():\n",
    "    url_csv = \"https://www.world-mining-data.info/wmd/downloads/XLS/6.5.%20Share_of_World_Mineral_Production_2020_by_Countries.xlsx\"\n",
    "    shares_prod_2020 = pd.ExcelFile(url_csv)\n",
    "    # besoin de import geopandas.tools\n",
    "    \n",
    "    # data limites des pays\n",
    "    countries = gpd.read_file(gpd.datasets.get_path('naturalearth_lowres'))\n",
    "\n",
    "    # attention correspondance pays\n",
    "    dico_correspondance_pays = {'Afghanistan':\"\", 'Albania': 'Albania', 'Algeria': 'Algeria', 'Angola': 'Angola', 'Antarctica':\"\", 'Argentina': 'Argentina', 'Armenia': 'Armenia','Australia': 'Australia', 'Austria': 'Austria', 'Azerbaijan': 'Azerbaijan', 'Bahamas':\"\", 'Bangladesh': 'Bangladesh','Bolivia': 'Bolivia', 'Belgium':\"\", 'Belize':\"\", 'Benin':\"\", 'Bosnia and Herz.': 'Bosnia and Herzegovina', 'Botswana': 'Botswana', 'Brazil': 'Brazil', 'Brunei':\"\", 'Bulgaria': 'Bulgaria', \"Côte d'Ivoire\": 'Côte D’Ivoire', 'Burkina Faso': 'Burkina Faso', 'Burundi':\"\", 'Cambodia':\"\", 'Cameroon':\"\", 'Canada': 'Canada', 'Central African Rep.':\"\", 'Chad':\"\", 'Chile': 'Chile', 'China': 'China', 'Colombia': 'Colombia', 'Costa Rica': 'Costa Rica', 'Croatia':\"\", 'Cuba': 'Cuba', 'Cyprus': 'Cyprus', 'Czechia': 'Czechia','Dem. Rep. Congo': 'Democratic Republic of The Congo','Dominican Rep.': 'Dominican Republic','Congo':\"\", 'Denmark':\"\", 'Djibouti':\"\", 'Ecuador': 'Ecuador', 'El Salvador':\"\",'Egypt': 'Egypt', 'Eq. Guinea':\"\", 'Eritrea': 'Eritrea', 'Estonia':\"\", 'Ethiopia': 'Ethiopia','Fiji': 'Fiji', 'Falkland Is.':\"\", 'Finland': 'Finland', 'Fr. S. Antarctic Lands':\"\", 'France': 'France', 'Gabon': 'Gabon', 'Gambia':\"\", 'Georgia': 'Georgia', 'Germany': 'Germany', 'Ghana': 'Ghana','Greece': 'Greece', 'Guatemala': 'Guatemala', 'Guinea': 'Guinea', 'Guinea-Bissau': 'Guinea-Bissau', 'Haiti':\"\",'Guyana': 'Guyana','Honduras': 'Honduras', 'Hungary': 'Hungary', 'Iceland':\"\", 'India': 'India', 'Indonesia': 'Indonesia', 'Iran': 'Iran', 'Iraq': 'Iraq','Ireland': 'Ireland', 'Israel': 'Israel', 'Italy': 'Italy','Jamaica': 'Jamaica', 'Japan': 'Japan', 'Jordan': 'Jordan', 'Kazakhstan': 'Kazakhstan', 'Kenya': 'Kenya','Kyrgyzstan': 'Kyrgyzstan', 'Kosovo':\"\", 'Kuwait':\"\", 'Laos': 'Laos', 'Latvia':\"\", 'Lebanon':\"\", 'Lesotho': 'Lesotho','Liberia': 'Liberia', 'Libya':\"\", 'Lithuania':\"\", 'Madagascar': 'Madagascar', 'Malawi': 'Malawi', 'Malaysia': 'Malaysia','Mali': 'Mali', 'Mauritania': 'Mauritania', 'Mexico': 'Mexico', 'Moldova':\"\", 'Mongolia': 'Mongolia','Montenegro': 'Montenegro', 'Morocco': 'Morocco', 'Mozambique': 'Mozambique', 'Myanmar': 'Myanmar/Burma', 'N. Cyprus':\"\", 'Namibia': 'Namibia', 'Nepal':\"\", 'Netherlands':\"\", 'New Caledonia': 'New Caledonia', 'New Zealand': 'New Zealand', 'Nicaragua': 'Nicaragua', 'Niger': 'Niger','North Korea': 'North Korea', 'Nigeria':\"\", 'North Macedonia': 'North Macedonia', 'Norway': 'Norway', 'Oman': 'Oman', 'Pakistan': 'Pakistan', 'Panama': 'Panama','Papua New Guinea': 'Papua New Guinea', 'Paraguay':\"\", 'Peru': 'Peru','Philippines': 'Philippines', 'Poland': 'Poland', 'Portugal': 'Portugal', 'Puerto Rico':\"\",'Romania': 'Romania', 'Qatar':\"\", 'Russia': 'Russian Federation','Rwanda': 'Rwanda', 'S. Sudan':\"\",'Saudi Arabia': 'Saudi Arabia', 'Senegal': 'Senegal', 'Serbia': 'Serbia', 'Sierra Leone': 'Sierra Leone','Slovakia': 'Slovakia', 'Slovenia': 'Slovenia', 'Solomon Is.': 'Solomon Islands', 'Somalia':\"\",'South Africa': 'South Africa', 'Somaliland':\"\", 'South Korea': 'South Korea', 'Spain': 'Spain', 'Sri Lanka':\"\", 'Sudan': 'Sudan', 'Suriname': 'Suriname', 'Sweden': 'Sweden', 'Switzerland':\"\", 'Syria':\"\", 'Taiwan':\"\", 'Tajikistan': 'Tajikistan', 'Tanzania': 'United Republic of Tanzania', 'Thailand': 'Thailand', 'Timor-Leste':\"\", 'Trinidad and Tobago':\"\", 'Tunisia': 'Tunisia', 'Turkey': 'Turkey', 'Turkmenistan':\"\", 'Uganda': 'Uganda', 'Ukraine': 'Ukraine','United Kingdom':'United Kingdom','United Arab Emirates': 'United Arab Emirates','United States of America': 'United States', 'Uruguay': 'Uruguay', 'Uzbekistan': 'Uzbekistan', 'Venezuela': 'Venezuela', 'Vietnam': 'Vietnam', 'W. Sahara': 'Western Sahara', 'Yemen':\"\", 'Zambia': 'Zambia', 'Zimbabwe': 'Zimbabwe','Belarus':\"\",'Bhutan':\"\",'eSwatini':\"\",'Greenland':\"\",'Luxembourg':\"\",'Palestine':\"\",'Togo':\"\",'Vanuatu':\"\"}\n",
    "    \n",
    "    # Importation données zones minières, à partir de Maus, V., Giljum, S., Gutschlhofer, J. et al. A global-scale data set of mining areas. Sci Data 7, 289 (2020). https://doi.org/10.1038/s41597-020-00624-w\n",
    "\n",
    "    file = \"global_mining_polygons_v1.gpkg\"\n",
    "    resp = urlopen(\"https://store.pangaea.de/Publications/Maus-etal_2020/Global_mining.zip\")\n",
    "    myzip = ZipFile(BytesIO(resp.read()))\n",
    "\n",
    "    df = gpd.read_file(myzip.open('global_mining_polygons_v1.gpkg'))\n",
    "    # correction données : assignation des polygones miniers aux bons pays (voir ex Pologne)\n",
    "    df =  gpd.tools.sjoin(df, countries, how=\"left\")[['ISO3_CODE', 'COUNTRY_NAME', 'AREA', 'geometry', 'name', 'iso_a3']]\n",
    "    \n",
    "    ### importation data stress hydrique\n",
    "    url_stress = \"https://wri-public-data.s3.amazonaws.com/resourcewatch/wat_006_projected_water_stress.zip\"\n",
    "    df_stress = gpd.read_file(url_stress)\n",
    "    df_total = df_stress.overlay(countries, how=\"intersection\")\n",
    "    \n",
    "    df_copper = pd.read_excel(shares_prod_2020, 'Copper')\n",
    "    \n",
    "    df_total_mining = gpd.tools.sjoin(df, df_total, how=\"left\")\n",
    "\n",
    "    return shares_prod_2020, countries, dico_correspondance_pays, df, df_stress, df_total, df_stress, df_total_mining"
   ]
  }
 ],
 "metadata": {
  "kernelspec": {
   "display_name": "Python 3 (ipykernel)",
   "language": "python",
   "name": "python3"
  },
  "language_info": {
   "codemirror_mode": {
    "name": "ipython",
    "version": 3
   },
   "file_extension": ".py",
   "mimetype": "text/x-python",
   "name": "python",
   "nbconvert_exporter": "python",
   "pygments_lexer": "ipython3",
   "version": "3.10.4"
  }
 },
 "nbformat": 4,
 "nbformat_minor": 5
}
