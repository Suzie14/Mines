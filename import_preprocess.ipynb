{
 "cells": [
  {
   "cell_type": "code",
   "execution_count": 1,
   "id": "bfa614be-97cf-4215-a9b0-2432dc0a47a4",
   "metadata": {
    "collapsed": true,
    "jupyter": {
     "outputs_hidden": true
    },
    "tags": []
   },
   "outputs": [
    {
     "name": "stdout",
     "output_type": "stream",
     "text": [
      "Requirement already satisfied: scikit-learn in /opt/mamba/lib/python3.10/site-packages (1.2.0)\n",
      "Requirement already satisfied: joblib>=1.1.1 in /opt/mamba/lib/python3.10/site-packages (from scikit-learn) (1.2.0)\n",
      "Requirement already satisfied: threadpoolctl>=2.0.0 in /opt/mamba/lib/python3.10/site-packages (from scikit-learn) (3.1.0)\n",
      "Requirement already satisfied: scipy>=1.3.2 in /opt/mamba/lib/python3.10/site-packages (from scikit-learn) (1.9.3)\n",
      "Requirement already satisfied: numpy>=1.17.3 in /opt/mamba/lib/python3.10/site-packages (from scikit-learn) (1.23.5)\n",
      "Requirement already satisfied: geopandas in /opt/mamba/lib/python3.10/site-packages (0.12.1)\n",
      "Requirement already satisfied: pyproj>=2.6.1.post1 in /opt/mamba/lib/python3.10/site-packages (from geopandas) (3.4.0)\n",
      "Requirement already satisfied: fiona>=1.8 in /opt/mamba/lib/python3.10/site-packages (from geopandas) (1.8.22)\n",
      "Requirement already satisfied: pandas>=1.0.0 in /opt/mamba/lib/python3.10/site-packages (from geopandas) (1.5.1)\n",
      "Requirement already satisfied: packaging in /opt/mamba/lib/python3.10/site-packages (from geopandas) (21.3)\n",
      "Requirement already satisfied: shapely>=1.7 in /opt/mamba/lib/python3.10/site-packages (from geopandas) (1.8.5.post1)\n",
      "Requirement already satisfied: attrs>=17 in /opt/mamba/lib/python3.10/site-packages (from fiona>=1.8->geopandas) (22.1.0)\n",
      "Requirement already satisfied: click>=4.0 in /opt/mamba/lib/python3.10/site-packages (from fiona>=1.8->geopandas) (8.1.3)\n",
      "Requirement already satisfied: certifi in /opt/mamba/lib/python3.10/site-packages (from fiona>=1.8->geopandas) (2022.9.24)\n",
      "Requirement already satisfied: setuptools in /opt/mamba/lib/python3.10/site-packages (from fiona>=1.8->geopandas) (65.5.1)\n",
      "Requirement already satisfied: munch in /opt/mamba/lib/python3.10/site-packages (from fiona>=1.8->geopandas) (2.5.0)\n",
      "Requirement already satisfied: cligj>=0.5 in /opt/mamba/lib/python3.10/site-packages (from fiona>=1.8->geopandas) (0.7.2)\n",
      "Requirement already satisfied: six>=1.7 in /opt/mamba/lib/python3.10/site-packages (from fiona>=1.8->geopandas) (1.16.0)\n",
      "Requirement already satisfied: click-plugins>=1.0 in /opt/mamba/lib/python3.10/site-packages (from fiona>=1.8->geopandas) (1.1.1)\n",
      "Requirement already satisfied: python-dateutil>=2.8.1 in /opt/mamba/lib/python3.10/site-packages (from pandas>=1.0.0->geopandas) (2.8.2)\n",
      "Requirement already satisfied: pytz>=2020.1 in /opt/mamba/lib/python3.10/site-packages (from pandas>=1.0.0->geopandas) (2022.6)\n",
      "Requirement already satisfied: numpy>=1.21.0 in /opt/mamba/lib/python3.10/site-packages (from pandas>=1.0.0->geopandas) (1.23.5)\n",
      "Requirement already satisfied: pyparsing!=3.0.5,>=2.0.2 in /opt/mamba/lib/python3.10/site-packages (from packaging->geopandas) (3.0.9)\n",
      "Requirement already satisfied: geoplot in /opt/mamba/lib/python3.10/site-packages (0.5.1)\n",
      "Requirement already satisfied: cartopy in /opt/mamba/lib/python3.10/site-packages (from geoplot) (0.21.0)\n",
      "Requirement already satisfied: seaborn in /opt/mamba/lib/python3.10/site-packages (from geoplot) (0.12.1)\n",
      "Requirement already satisfied: pandas in /opt/mamba/lib/python3.10/site-packages (from geoplot) (1.5.1)\n",
      "Requirement already satisfied: matplotlib>=3.1.2 in /opt/mamba/lib/python3.10/site-packages (from geoplot) (3.6.2)\n",
      "Requirement already satisfied: mapclassify>=2.1 in /opt/mamba/lib/python3.10/site-packages (from geoplot) (2.4.3)\n",
      "Requirement already satisfied: geopandas>=0.9.0 in /opt/mamba/lib/python3.10/site-packages (from geoplot) (0.12.1)\n",
      "Requirement already satisfied: contextily>=1.0.0 in /opt/mamba/lib/python3.10/site-packages (from geoplot) (1.2.0)\n",
      "Requirement already satisfied: pillow in /opt/mamba/lib/python3.10/site-packages (from contextily>=1.0.0->geoplot) (9.2.0)\n",
      "Requirement already satisfied: geopy in /opt/mamba/lib/python3.10/site-packages (from contextily>=1.0.0->geoplot) (2.3.0)\n",
      "Requirement already satisfied: rasterio in /opt/mamba/lib/python3.10/site-packages (from contextily>=1.0.0->geoplot) (1.3.4)\n",
      "Requirement already satisfied: requests in /opt/mamba/lib/python3.10/site-packages (from contextily>=1.0.0->geoplot) (2.28.1)\n",
      "Requirement already satisfied: joblib in /opt/mamba/lib/python3.10/site-packages (from contextily>=1.0.0->geoplot) (1.2.0)\n",
      "Requirement already satisfied: xyzservices in /opt/mamba/lib/python3.10/site-packages (from contextily>=1.0.0->geoplot) (2022.9.0)\n",
      "Requirement already satisfied: mercantile in /opt/mamba/lib/python3.10/site-packages (from contextily>=1.0.0->geoplot) (1.2.1)\n",
      "Requirement already satisfied: packaging in /opt/mamba/lib/python3.10/site-packages (from geopandas>=0.9.0->geoplot) (21.3)\n",
      "Requirement already satisfied: shapely>=1.7 in /opt/mamba/lib/python3.10/site-packages (from geopandas>=0.9.0->geoplot) (1.8.5.post1)\n",
      "Requirement already satisfied: pyproj>=2.6.1.post1 in /opt/mamba/lib/python3.10/site-packages (from geopandas>=0.9.0->geoplot) (3.4.0)\n",
      "Requirement already satisfied: fiona>=1.8 in /opt/mamba/lib/python3.10/site-packages (from geopandas>=0.9.0->geoplot) (1.8.22)\n",
      "Requirement already satisfied: numpy>=1.3 in /opt/mamba/lib/python3.10/site-packages (from mapclassify>=2.1->geoplot) (1.23.5)\n",
      "Requirement already satisfied: scikit-learn in /opt/mamba/lib/python3.10/site-packages (from mapclassify>=2.1->geoplot) (1.2.0)\n",
      "Requirement already satisfied: networkx in /opt/mamba/lib/python3.10/site-packages (from mapclassify>=2.1->geoplot) (2.8.8)\n",
      "Requirement already satisfied: scipy>=1.0 in /opt/mamba/lib/python3.10/site-packages (from mapclassify>=2.1->geoplot) (1.9.3)\n",
      "Requirement already satisfied: cycler>=0.10 in /opt/mamba/lib/python3.10/site-packages (from matplotlib>=3.1.2->geoplot) (0.11.0)\n",
      "Requirement already satisfied: contourpy>=1.0.1 in /opt/mamba/lib/python3.10/site-packages (from matplotlib>=3.1.2->geoplot) (1.0.6)\n",
      "Requirement already satisfied: python-dateutil>=2.7 in /opt/mamba/lib/python3.10/site-packages (from matplotlib>=3.1.2->geoplot) (2.8.2)\n",
      "Requirement already satisfied: fonttools>=4.22.0 in /opt/mamba/lib/python3.10/site-packages (from matplotlib>=3.1.2->geoplot) (4.38.0)\n",
      "Requirement already satisfied: pyparsing>=2.2.1 in /opt/mamba/lib/python3.10/site-packages (from matplotlib>=3.1.2->geoplot) (3.0.9)\n",
      "Requirement already satisfied: kiwisolver>=1.0.1 in /opt/mamba/lib/python3.10/site-packages (from matplotlib>=3.1.2->geoplot) (1.4.4)\n",
      "Requirement already satisfied: pytz>=2020.1 in /opt/mamba/lib/python3.10/site-packages (from pandas->geoplot) (2022.6)\n",
      "Requirement already satisfied: pyshp>=2.1 in /opt/mamba/lib/python3.10/site-packages (from cartopy->geoplot) (2.3.1)\n",
      "Requirement already satisfied: certifi in /opt/mamba/lib/python3.10/site-packages (from fiona>=1.8->geopandas>=0.9.0->geoplot) (2022.9.24)\n",
      "Requirement already satisfied: click>=4.0 in /opt/mamba/lib/python3.10/site-packages (from fiona>=1.8->geopandas>=0.9.0->geoplot) (8.1.3)\n",
      "Requirement already satisfied: click-plugins>=1.0 in /opt/mamba/lib/python3.10/site-packages (from fiona>=1.8->geopandas>=0.9.0->geoplot) (1.1.1)\n",
      "Requirement already satisfied: setuptools in /opt/mamba/lib/python3.10/site-packages (from fiona>=1.8->geopandas>=0.9.0->geoplot) (65.5.1)\n",
      "Requirement already satisfied: attrs>=17 in /opt/mamba/lib/python3.10/site-packages (from fiona>=1.8->geopandas>=0.9.0->geoplot) (22.1.0)\n",
      "Requirement already satisfied: munch in /opt/mamba/lib/python3.10/site-packages (from fiona>=1.8->geopandas>=0.9.0->geoplot) (2.5.0)\n",
      "Requirement already satisfied: cligj>=0.5 in /opt/mamba/lib/python3.10/site-packages (from fiona>=1.8->geopandas>=0.9.0->geoplot) (0.7.2)\n",
      "Requirement already satisfied: six>=1.7 in /opt/mamba/lib/python3.10/site-packages (from fiona>=1.8->geopandas>=0.9.0->geoplot) (1.16.0)\n",
      "Requirement already satisfied: geographiclib<3,>=1.52 in /opt/mamba/lib/python3.10/site-packages (from geopy->contextily>=1.0.0->geoplot) (2.0)\n",
      "Requirement already satisfied: affine in /opt/mamba/lib/python3.10/site-packages (from rasterio->contextily>=1.0.0->geoplot) (2.3.1)\n",
      "Requirement already satisfied: snuggs>=1.4.1 in /opt/mamba/lib/python3.10/site-packages (from rasterio->contextily>=1.0.0->geoplot) (1.4.7)\n",
      "Requirement already satisfied: charset-normalizer<3,>=2 in /opt/mamba/lib/python3.10/site-packages (from requests->contextily>=1.0.0->geoplot) (2.1.1)\n",
      "Requirement already satisfied: idna<4,>=2.5 in /opt/mamba/lib/python3.10/site-packages (from requests->contextily>=1.0.0->geoplot) (3.4)\n",
      "Requirement already satisfied: urllib3<1.27,>=1.21.1 in /opt/mamba/lib/python3.10/site-packages (from requests->contextily>=1.0.0->geoplot) (1.26.11)\n",
      "Requirement already satisfied: threadpoolctl>=2.0.0 in /opt/mamba/lib/python3.10/site-packages (from scikit-learn->mapclassify>=2.1->geoplot) (3.1.0)\n"
     ]
    },
    {
     "name": "stderr",
     "output_type": "stream",
     "text": [
      "ERROR 1: PROJ: proj_create_from_database: Open of /opt/mamba/share/proj failed\n"
     ]
    },
    {
     "name": "stdout",
     "output_type": "stream",
     "text": [
      "Requirement already satisfied: contextily in /opt/mamba/lib/python3.10/site-packages (1.2.0)\n",
      "Requirement already satisfied: mercantile in /opt/mamba/lib/python3.10/site-packages (from contextily) (1.2.1)\n",
      "Requirement already satisfied: xyzservices in /opt/mamba/lib/python3.10/site-packages (from contextily) (2022.9.0)\n",
      "Requirement already satisfied: requests in /opt/mamba/lib/python3.10/site-packages (from contextily) (2.28.1)\n",
      "Requirement already satisfied: joblib in /opt/mamba/lib/python3.10/site-packages (from contextily) (1.2.0)\n",
      "Requirement already satisfied: rasterio in /opt/mamba/lib/python3.10/site-packages (from contextily) (1.3.4)\n",
      "Requirement already satisfied: pillow in /opt/mamba/lib/python3.10/site-packages (from contextily) (9.2.0)\n",
      "Requirement already satisfied: matplotlib in /opt/mamba/lib/python3.10/site-packages (from contextily) (3.6.2)\n",
      "Requirement already satisfied: geopy in /opt/mamba/lib/python3.10/site-packages (from contextily) (2.3.0)\n",
      "Requirement already satisfied: geographiclib<3,>=1.52 in /opt/mamba/lib/python3.10/site-packages (from geopy->contextily) (2.0)\n",
      "Requirement already satisfied: kiwisolver>=1.0.1 in /opt/mamba/lib/python3.10/site-packages (from matplotlib->contextily) (1.4.4)\n",
      "Requirement already satisfied: numpy>=1.19 in /opt/mamba/lib/python3.10/site-packages (from matplotlib->contextily) (1.23.5)\n",
      "Requirement already satisfied: pyparsing>=2.2.1 in /opt/mamba/lib/python3.10/site-packages (from matplotlib->contextily) (3.0.9)\n",
      "Requirement already satisfied: python-dateutil>=2.7 in /opt/mamba/lib/python3.10/site-packages (from matplotlib->contextily) (2.8.2)\n",
      "Requirement already satisfied: packaging>=20.0 in /opt/mamba/lib/python3.10/site-packages (from matplotlib->contextily) (21.3)\n",
      "Requirement already satisfied: fonttools>=4.22.0 in /opt/mamba/lib/python3.10/site-packages (from matplotlib->contextily) (4.38.0)\n",
      "Requirement already satisfied: contourpy>=1.0.1 in /opt/mamba/lib/python3.10/site-packages (from matplotlib->contextily) (1.0.6)\n",
      "Requirement already satisfied: cycler>=0.10 in /opt/mamba/lib/python3.10/site-packages (from matplotlib->contextily) (0.11.0)\n",
      "Requirement already satisfied: click>=3.0 in /opt/mamba/lib/python3.10/site-packages (from mercantile->contextily) (8.1.3)\n",
      "Requirement already satisfied: cligj>=0.5 in /opt/mamba/lib/python3.10/site-packages (from rasterio->contextily) (0.7.2)\n",
      "Requirement already satisfied: affine in /opt/mamba/lib/python3.10/site-packages (from rasterio->contextily) (2.3.1)\n",
      "Requirement already satisfied: click-plugins in /opt/mamba/lib/python3.10/site-packages (from rasterio->contextily) (1.1.1)\n",
      "Requirement already satisfied: setuptools in /opt/mamba/lib/python3.10/site-packages (from rasterio->contextily) (65.5.1)\n",
      "Requirement already satisfied: certifi in /opt/mamba/lib/python3.10/site-packages (from rasterio->contextily) (2022.9.24)\n",
      "Requirement already satisfied: snuggs>=1.4.1 in /opt/mamba/lib/python3.10/site-packages (from rasterio->contextily) (1.4.7)\n",
      "Requirement already satisfied: attrs in /opt/mamba/lib/python3.10/site-packages (from rasterio->contextily) (22.1.0)\n",
      "Requirement already satisfied: urllib3<1.27,>=1.21.1 in /opt/mamba/lib/python3.10/site-packages (from requests->contextily) (1.26.11)\n",
      "Requirement already satisfied: idna<4,>=2.5 in /opt/mamba/lib/python3.10/site-packages (from requests->contextily) (3.4)\n",
      "Requirement already satisfied: charset-normalizer<3,>=2 in /opt/mamba/lib/python3.10/site-packages (from requests->contextily) (2.1.1)\n",
      "Requirement already satisfied: six>=1.5 in /opt/mamba/lib/python3.10/site-packages (from python-dateutil>=2.7->matplotlib->contextily) (1.16.0)\n",
      "Requirement already satisfied: openpyxl in /opt/mamba/lib/python3.10/site-packages (3.0.10)\n",
      "Requirement already satisfied: et-xmlfile in /opt/mamba/lib/python3.10/site-packages (from openpyxl) (1.1.0)\n",
      "Requirement already satisfied: selenium in /opt/mamba/lib/python3.10/site-packages (4.7.2)\n",
      "Requirement already satisfied: certifi>=2021.10.8 in /opt/mamba/lib/python3.10/site-packages (from selenium) (2022.9.24)\n",
      "Requirement already satisfied: trio~=0.17 in /opt/mamba/lib/python3.10/site-packages (from selenium) (0.22.0)\n",
      "Requirement already satisfied: trio-websocket~=0.9 in /opt/mamba/lib/python3.10/site-packages (from selenium) (0.9.2)\n",
      "Requirement already satisfied: urllib3[socks]~=1.26 in /opt/mamba/lib/python3.10/site-packages (from selenium) (1.26.11)\n",
      "Requirement already satisfied: exceptiongroup>=1.0.0rc9 in /opt/mamba/lib/python3.10/site-packages (from trio~=0.17->selenium) (1.0.4)\n",
      "Requirement already satisfied: async-generator>=1.9 in /opt/mamba/lib/python3.10/site-packages (from trio~=0.17->selenium) (1.10)\n",
      "Requirement already satisfied: attrs>=19.2.0 in /opt/mamba/lib/python3.10/site-packages (from trio~=0.17->selenium) (22.1.0)\n",
      "Requirement already satisfied: outcome in /opt/mamba/lib/python3.10/site-packages (from trio~=0.17->selenium) (1.2.0)\n",
      "Requirement already satisfied: sortedcontainers in /opt/mamba/lib/python3.10/site-packages (from trio~=0.17->selenium) (2.4.0)\n",
      "Requirement already satisfied: sniffio in /opt/mamba/lib/python3.10/site-packages (from trio~=0.17->selenium) (1.3.0)\n",
      "Requirement already satisfied: idna in /opt/mamba/lib/python3.10/site-packages (from trio~=0.17->selenium) (3.4)\n",
      "Requirement already satisfied: wsproto>=0.14 in /opt/mamba/lib/python3.10/site-packages (from trio-websocket~=0.9->selenium) (1.2.0)\n",
      "Requirement already satisfied: PySocks!=1.5.7,<2.0,>=1.5.6 in /opt/mamba/lib/python3.10/site-packages (from urllib3[socks]~=1.26->selenium) (1.7.1)\n",
      "Requirement already satisfied: h11<1,>=0.9.0 in /opt/mamba/lib/python3.10/site-packages (from wsproto>=0.14->trio-websocket~=0.9->selenium) (0.14.0)\n",
      "Requirement already satisfied: lxml in /opt/mamba/lib/python3.10/site-packages (4.9.1)\n"
     ]
    }
   ],
   "source": [
    "# liste des modules et librairies à installer/importer\n",
    "\n",
    "import pandas as pd\n",
    "import numpy as np\n",
    "!pip install -U scikit-learn\n",
    "import sklearn\n",
    "from sklearn.linear_model import LinearRegression\n",
    "import scipy\n",
    "import requests\n",
    "import matplotlib.pyplot as plt\n",
    "\n",
    "import json\n",
    "from pandas.io.json import json_normalize\n",
    "\n",
    "#pour données géo et visualisations sur cartes\n",
    "!pip install geopandas\n",
    "import geopandas as gpd\n",
    "!pip install geoplot \n",
    "import geoplot\n",
    "import geopandas.tools\n",
    "from shapely.geometry import Point, Polygon\n",
    "#!conda install -c conda-forge geopy --yes\n",
    "#from geopy.geocoders import Nominatim\n",
    "import folium\n",
    "\n",
    "!pip install contextily\n",
    "import contextily as ctx\n",
    "import matplotlib.pyplot as plt\n",
    "\n",
    "import matplotlib.cm as cm\n",
    "import matplotlib.colors as colors\n",
    "\n",
    "!pip install openpyxl\n",
    "import openpyxl\n",
    "\n",
    "# pour webscrapping\n",
    "!pip install selenium\n",
    "import selenium\n",
    "from bs4 import BeautifulSoup\n",
    "!pip install lxml\n",
    "import lxml\n",
    "\n",
    "import zipfile\n",
    "import os\n",
    "import glob\n",
    "import io\n",
    "\n",
    "# pour obtenir données de Maus, V., Giljum, S., Gutschlhofer, J. et al. A global-scale data set of mining areas. Sci Data 7, 289 (2020). https://doi.org/10.1038/s41597-020-00624-w\n",
    "from io import BytesIO\n",
    "from zipfile import ZipFile\n",
    "from urllib.request import urlopen"
   ]
  },
  {
   "cell_type": "code",
   "execution_count": 30,
   "id": "96990654-be20-4e5c-99e2-ce0c4bba1274",
   "metadata": {},
   "outputs": [],
   "source": [
    "# parts de production minéraux, par pays\n",
    "\n",
    "url_csv = \"https://www.world-mining-data.info/wmd/downloads/XLS/6.5.%20Share_of_World_Mineral_Production_2020_by_Countries.xlsx\"\n",
    "#s = requests.get(url_csv).content\n",
    "#shares_prod_2020 = pd.read_excel(url_csv)\n",
    "shares_prod_2020 = pd.ExcelFile(url_csv)\n",
    "#print(type(shares_prod_2020))\n",
    "\n"
   ]
  },
  {
   "cell_type": "code",
   "execution_count": 31,
   "id": "fe857bb9-4d18-43d0-99de-bf7544ac1c85",
   "metadata": {},
   "outputs": [],
   "source": [
    "# besoin de import geopandas.tools\n",
    "# data limites des pays\n",
    "countries = gpd.read_file(gpd.datasets.get_path('naturalearth_lowres'))\n",
    "\n",
    "# attention correspondance pays\n",
    "dico_correspondance_pays = {'Afghanistan':\"\", 'Albania': 'Albania', 'Algeria': 'Algeria', 'Angola': 'Angola', 'Antarctica':\"\", 'Argentina': 'Argentina', 'Armenia': 'Armenia','Australia': 'Australia', 'Austria': 'Austria', 'Azerbaijan': 'Azerbaijan', 'Bahamas':\"\", 'Bangladesh': 'Bangladesh','Bolivia': 'Bolivia', 'Belgium':\"\", 'Belize':\"\", 'Benin':\"\", 'Bosnia and Herz.': 'Bosnia and Herzegovina', 'Botswana': 'Botswana', 'Brazil': 'Brazil', 'Brunei':\"\", 'Bulgaria': 'Bulgaria', \"Côte d'Ivoire\": 'Côte D’Ivoire', 'Burkina Faso': 'Burkina Faso', 'Burundi':\"\", 'Cambodia':\"\", 'Cameroon':\"\", 'Canada': 'Canada', 'Central African Rep.':\"\", 'Chad':\"\", 'Chile': 'Chile', 'China': 'China', 'Colombia': 'Colombia', 'Costa Rica': 'Costa Rica', 'Croatia':\"\", 'Cuba': 'Cuba', 'Cyprus': 'Cyprus', 'Czechia': 'Czechia','Dem. Rep. Congo': 'Democratic Republic of The Congo','Dominican Rep.': 'Dominican Republic','Congo':\"\", 'Denmark':\"\", 'Djibouti':\"\", 'Ecuador': 'Ecuador', 'El Salvador':\"\",'Egypt': 'Egypt', 'Eq. Guinea':\"\", 'Eritrea': 'Eritrea', 'Estonia':\"\", 'Ethiopia': 'Ethiopia','Fiji': 'Fiji', 'Falkland Is.':\"\", 'Finland': 'Finland', 'Fr. S. Antarctic Lands':\"\", 'France': 'France', 'Gabon': 'Gabon', 'Gambia':\"\", 'Georgia': 'Georgia', 'Germany': 'Germany', 'Ghana': 'Ghana','Greece': 'Greece', 'Guatemala': 'Guatemala', 'Guinea': 'Guinea', 'Guinea-Bissau': 'Guinea-Bissau', 'Haiti':\"\",'Guyana': 'Guyana','Honduras': 'Honduras', 'Hungary': 'Hungary', 'Iceland':\"\", 'India': 'India', 'Indonesia': 'Indonesia', 'Iran': 'Iran', 'Iraq': 'Iraq','Ireland': 'Ireland', 'Israel': 'Israel', 'Italy': 'Italy','Jamaica': 'Jamaica', 'Japan': 'Japan', 'Jordan': 'Jordan', 'Kazakhstan': 'Kazakhstan', 'Kenya': 'Kenya','Kyrgyzstan': 'Kyrgyzstan', 'Kosovo':\"\", 'Kuwait':\"\", 'Laos': 'Laos', 'Latvia':\"\", 'Lebanon':\"\", 'Lesotho': 'Lesotho','Liberia': 'Liberia', 'Libya':\"\", 'Lithuania':\"\", 'Madagascar': 'Madagascar', 'Malawi': 'Malawi', 'Malaysia': 'Malaysia','Mali': 'Mali', 'Mauritania': 'Mauritania', 'Mexico': 'Mexico', 'Moldova':\"\", 'Mongolia': 'Mongolia','Montenegro': 'Montenegro', 'Morocco': 'Morocco', 'Mozambique': 'Mozambique', 'Myanmar': 'Myanmar/Burma', 'N. Cyprus':\"\", 'Namibia': 'Namibia', 'Nepal':\"\", 'Netherlands':\"\", 'New Caledonia': 'New Caledonia', 'New Zealand': 'New Zealand', 'Nicaragua': 'Nicaragua', 'Niger': 'Niger','North Korea': 'North Korea', 'Nigeria':\"\", 'North Macedonia': 'North Macedonia', 'Norway': 'Norway', 'Oman': 'Oman', 'Pakistan': 'Pakistan', 'Panama': 'Panama','Papua New Guinea': 'Papua New Guinea', 'Paraguay':\"\", 'Peru': 'Peru','Philippines': 'Philippines', 'Poland': 'Poland', 'Portugal': 'Portugal', 'Puerto Rico':\"\",'Romania': 'Romania', 'Qatar':\"\", 'Russia': 'Russian Federation','Rwanda': 'Rwanda', 'S. Sudan':\"\",'Saudi Arabia': 'Saudi Arabia', 'Senegal': 'Senegal', 'Serbia': 'Serbia', 'Sierra Leone': 'Sierra Leone','Slovakia': 'Slovakia', 'Slovenia': 'Slovenia', 'Solomon Is.': 'Solomon Islands', 'Somalia':\"\",'South Africa': 'South Africa', 'Somaliland':\"\", 'South Korea': 'South Korea', 'Spain': 'Spain', 'Sri Lanka':\"\", 'Sudan': 'Sudan', 'Suriname': 'Suriname', 'Sweden': 'Sweden', 'Switzerland':\"\", 'Syria':\"\", 'Taiwan':\"\", 'Tajikistan': 'Tajikistan', 'Tanzania': 'United Republic of Tanzania', 'Thailand': 'Thailand', 'Timor-Leste':\"\", 'Trinidad and Tobago':\"\", 'Tunisia': 'Tunisia', 'Turkey': 'Turkey', 'Turkmenistan':\"\", 'Uganda': 'Uganda', 'Ukraine': 'Ukraine','United Kingdom':'United Kingdom','United Arab Emirates': 'United Arab Emirates','United States of America': 'United States', 'Uruguay': 'Uruguay', 'Uzbekistan': 'Uzbekistan', 'Venezuela': 'Venezuela', 'Vietnam': 'Vietnam', 'W. Sahara': 'Western Sahara', 'Yemen':\"\", 'Zambia': 'Zambia', 'Zimbabwe': 'Zimbabwe','Belarus':\"\",'Bhutan':\"\",'eSwatini':\"\",'Greenland':\"\",'Luxembourg':\"\",'Palestine':\"\",'Togo':\"\",'Vanuatu':\"\"}\n",
    "\n",
    "\n"
   ]
  },
  {
   "cell_type": "code",
   "execution_count": 8,
   "id": "9c6b6494-ce9f-4d02-a1c6-300df2ab57ef",
   "metadata": {},
   "outputs": [],
   "source": [
    "# Importation données zones minières, à partir de Maus, V., Giljum, S., Gutschlhofer, J. et al. A global-scale data set of mining areas. Sci Data 7, 289 (2020). https://doi.org/10.1038/s41597-020-00624-w\n",
    "\n",
    "file = \"global_mining_polygons_v1.gpkg\"\n",
    "resp = urlopen(\"https://store.pangaea.de/Publications/Maus-etal_2020/Global_mining.zip\")\n",
    "myzip = ZipFile(BytesIO(resp.read()))\n",
    "\n",
    "df = gpd.read_file(myzip.open('global_mining_polygons_v1.gpkg'))\n",
    "# correction données : assignation des polygones miniers aux bons pays (voir ex Pologne)\n",
    "df =  gpd.tools.sjoin(df, countries, how=\"left\")[['ISO3_CODE', 'COUNTRY_NAME', 'AREA', 'geometry', 'name', 'iso_a3']]\n"
   ]
  },
  {
   "cell_type": "code",
   "execution_count": 9,
   "id": "f2baaf33-28e4-4e43-9138-65f83ab1b439",
   "metadata": {},
   "outputs": [],
   "source": [
    "### importation data stress hydrique\n",
    "url_stress = \"https://wri-public-data.s3.amazonaws.com/resourcewatch/wat_006_projected_water_stress.zip\"\n",
    "df_stress = gpd.read_file(url_stress)"
   ]
  },
  {
   "cell_type": "code",
   "execution_count": 10,
   "id": "8de9283e-8560-4fda-aa4e-a406c77823ae",
   "metadata": {},
   "outputs": [
    {
     "name": "stderr",
     "output_type": "stream",
     "text": [
      "/opt/mamba/lib/python3.10/site-packages/geopandas/geodataframe.py:1443: PerformanceWarning: DataFrame is highly fragmented.  This is usually the result of calling `frame.insert` many times, which has poor performance.  Consider joining all columns at once using pd.concat(axis=1) instead. To get a de-fragmented frame, use `newframe = frame.copy()`\n",
      "  super().__setitem__(key, value)\n"
     ]
    }
   ],
   "source": [
    "df_total = df_stress.overlay(countries, how=\"intersection\")"
   ]
  },
  {
   "cell_type": "code",
   "execution_count": null,
   "id": "34a9c340-23f7-4012-927d-7d446b8a3c0c",
   "metadata": {},
   "outputs": [],
   "source": []
  },
  {
   "cell_type": "code",
   "execution_count": null,
   "id": "cb09aa42-7a41-44e1-af95-f5978208e973",
   "metadata": {},
   "outputs": [],
   "source": []
  }
 ],
 "metadata": {
  "kernelspec": {
   "display_name": "Python 3 (ipykernel)",
   "language": "python",
   "name": "python3"
  },
  "language_info": {
   "codemirror_mode": {
    "name": "ipython",
    "version": 3
   },
   "file_extension": ".py",
   "mimetype": "text/x-python",
   "name": "python",
   "nbconvert_exporter": "python",
   "pygments_lexer": "ipython3",
   "version": "3.10.4"
  }
 },
 "nbformat": 4,
 "nbformat_minor": 5
}
